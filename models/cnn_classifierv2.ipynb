{
  "nbformat": 4,
  "nbformat_minor": 0,
  "metadata": {
    "colab": {
      "provenance": [],
      "authorship_tag": "ABX9TyNmOlCiMnfC61aYkUq68E2N",
      "include_colab_link": true
    },
    "kernelspec": {
      "name": "python3",
      "display_name": "Python 3"
    },
    "language_info": {
      "name": "python"
    }
  },
  "cells": [
    {
      "cell_type": "markdown",
      "metadata": {
        "id": "view-in-github",
        "colab_type": "text"
      },
      "source": [
        "<a href=\"https://colab.research.google.com/github/chrisli36/Homework-Classification/blob/main/cnn_classifierv2.ipynb\" target=\"_parent\"><img src=\"https://colab.research.google.com/assets/colab-badge.svg\" alt=\"Open In Colab\"/></a>"
      ]
    },
    {
      "cell_type": "code",
      "execution_count": null,
      "metadata": {
        "id": "FVui7sZQRZA6"
      },
      "outputs": [],
      "source": [
        "import numpy as mp\n",
        "import matplotlib.pyplot as plt\n",
        "import keras\n",
        "from keras.layers import *\n",
        "from keras.models import *\n",
        "from keras.preprocessing import image\n",
        "\n",
        "model = Sequential()\n",
        "model.add(Conv2D(32,kernel_size=(3,3),activation='relu',input_shape=(224,224,3)))\n",
        "model.add(Conv2D(64,(3,3),activation='relu'))\n",
        "model.add(MaxPooling2D(pool_size=(2,2)))\n",
        "model.add(Dropout(0.25))\n",
        "\n",
        "model.add(Conv2D(64,(3,3),activation='relu'))\n",
        "model.add(MaxPooling2D(pool_size=(2,2)))\n",
        "model.add(Dropout(0.25))\n",
        "\n",
        "model.add(Conv2D(128,(3,3),activation='relu'))\n",
        "model.add(MaxPooling2D(pool_size(2,2)))\n",
        "model.add(Dropout(0.25))\n",
        "\n",
        "model.add(Flatten())\n",
        "model.add(Dense(64,activation='relu'))\n",
        "model.add(Dropout(0.5))\n",
        "model.add(Dense(1,activation='sigmoid'))\n",
        "\n",
        "model.compile(loss=keras.losses.binary_crossentrop,optimizer='adam',metrics=['accuracy'])\n",
        "\n",
        "model.summary()\n",
        "\n",
        "train_datagen = image.ImageDataGenerator(\n",
        "                rescale = 1./255,\n",
        "                shear_range = 0.2,\n",
        "                zoom_range = 0.2,\n",
        "                horizontal_flip = True,\n",
        ")\n",
        "\n",
        "test_dataset = image.ImageDataGenerator(rescale=1./255)\n",
        "\n",
        "train_generator = train_datagen.flow_from_directory(\n",
        "                  dataset,\n",
        "                  target_size = (224,224),\n",
        "                  batch_size = 32,\n",
        "                  class_mode = 'binary'\n",
        ")\n",
        "\n",
        "train_generator.class_indices\n",
        "\n",
        "validation_generator = test_dataset.flow_from_directory(\n",
        "                       dataset,\n",
        "                       target_size = (224,224),\n",
        "                       batch_size = 32,\n",
        "                       class_more = 'binary'\n",
        ")\n",
        "\n",
        "hist = model.fit_generator(\n",
        "       train_generator,\n",
        "       steps_per_epoch = 8,\n",
        "       epochs = 10,\n",
        "       validation_data = validation_generator,\n",
        "       validation_steps = 2\n",
        ")\n",
        "\n",
        "model.evaluate_generator(train_generator)\n",
        "model.evaluate_generator(validation_generator)"
      ]
    }
  ]
}