{
  "cells": [
    {
      "cell_type": "markdown",
      "metadata": {
        "colab_type": "text",
        "id": "view-in-github"
      },
      "source": [
        "<a href=\"https://colab.research.google.com/github/chrisli36/Homework-Classification/blob/main/knn_classifier.ipynb\" target=\"_parent\"><img src=\"https://colab.research.google.com/assets/colab-badge.svg\" alt=\"Open In Colab\"/></a>"
      ]
    },
    {
      "cell_type": "code",
      "execution_count": 3,
      "metadata": {},
      "outputs": [],
      "source": [
        "import numpy as np\n",
        "from sklearn.model_selection import train_test_split\n",
        "from sklearn.neighbors import KNeighborsClassifier\n",
        "from sklearn.metrics import accuracy_score, confusion_matrix, ConfusionMatrixDisplay\n",
        "import matplotlib.pyplot as plt\n",
        "from skimage import io, color\n",
        "import os\n",
        "import cv2\n",
        "import pickle"
      ]
    },
    {
      "cell_type": "code",
      "execution_count": 4,
      "metadata": {
        "colab": {
          "base_uri": "https://localhost:8080/",
          "height": 106
        },
        "id": "dz2-Dl2TJZMW",
        "outputId": "d0f11050-c979-430e-eea0-9a35058366bd"
      },
      "outputs": [
        {
          "name": "stdout",
          "output_type": "stream",
          "text": [
            "done finding paths\n",
            "done preprocessing\n",
            "done creating labels\n",
            "done combining\n"
          ]
        }
      ],
      "source": [
        "# Function to load and preprocess images\n",
        "def preprocess_image(image_path, target_size=(32, 32)):\n",
        "    image = io.imread(image_path)\n",
        "    image = color.rgb2gray(image)  # Convert to grayscale\n",
        "    return cv2.resize(image, target_size).flatten()\n",
        "\n",
        "# Load and preprocess images from two classes\n",
        "dataset_path = \"../data/hw/merged\"\n",
        "path = \"../data/no_hw/merged\"\n",
        "class_0_paths = [os.path.join(dataset_path, fn) for fn in os.listdir(dataset_path)]\n",
        "class_1_paths = [os.path.join(path, fn) for fn in os.listdir(path)]\n",
        "print(\"done finding paths\")\n",
        "\n",
        "class_0_data = np.array([preprocess_image(path) for path in class_0_paths])\n",
        "class_1_data = np.array([preprocess_image(path) for path in class_1_paths[:600]])\n",
        "print(\"done preprocessing\")\n",
        "\n",
        "# Create labels for the data\n",
        "class_0_labels = np.zeros(class_0_data.shape[0])  # Label for class 0\n",
        "class_1_labels = np.ones(class_1_data.shape[0])   # Label for class 1\n",
        "print(\"done creating labels\")\n",
        "\n",
        "# Combine data and labels for both classes\n",
        "X = np.concatenate((class_0_data, class_1_data), axis=0)\n",
        "y = np.concatenate((class_0_labels, class_1_labels), axis=0)\n",
        "print(\"done combining\")"
      ]
    },
    {
      "cell_type": "code",
      "execution_count": 7,
      "metadata": {},
      "outputs": [
        {
          "name": "stdout",
          "output_type": "stream",
          "text": [
            "[[0.20747804 0.21532118 0.2162298  ... 0.31728196 0.53357578 0.36041922]\n",
            " [0.34405373 0.3626698  0.36562235 ... 0.50697294 0.51710863 0.52069843]\n",
            " [0.12941176 0.12941176 0.12941176 ... 0.09019608 0.09019608 0.09019608]\n",
            " ...\n",
            " [0.12330471 0.11753353 0.12761667 ... 0.33716118 0.34378495 0.34641098]\n",
            " [0.0092862  0.01066529 0.01066529 ... 0.03593442 0.04532921 0.03012343]\n",
            " [0.55359679 0.66888403 0.76064271 ... 0.1695424  0.29065152 0.23099207]]\n"
          ]
        }
      ],
      "source": [
        "print(X)"
      ]
    },
    {
      "cell_type": "code",
      "execution_count": 5,
      "metadata": {},
      "outputs": [
        {
          "name": "stdout",
          "output_type": "stream",
          "text": [
            "Accuracy: 0.8148148148148148\n"
          ]
        },
        {
          "data": {
            "image/png": "[encoded data removed]",
            "text/plain": [
              "<Figure size 640x480 with 2 Axes>"
            ]
          },
          "metadata": {},
          "output_type": "display_data"
        }
      ],
      "source": [
        "# Split the data into training and testing sets\n",
        "X_train, X_test, y_train, y_test = train_test_split(X, y, test_size=0.2, random_state=42)\n",
        "\n",
        "# Initialize KNN classifier\n",
        "knn = KNeighborsClassifier(n_neighbors=5)  # You can adjust the number of neighbors (k) as needed\n",
        "\n",
        "# Train the classifier\n",
        "knn.fit(X_train, y_train)\n",
        "pickle.dump(knn, open('knn_classifier.pkl', 'wb'))\n",
        "\n",
        "# Predict on the test set\n",
        "y_pred = knn.predict(X_test)\n",
        "\n",
        "# Calculate accuracy\n",
        "accuracy = accuracy_score(y_test, y_pred)\n",
        "print(\"Accuracy:\", accuracy)\n",
        "\n",
        "cm = confusion_matrix(y_test, y_pred)\n",
        "display = ConfusionMatrixDisplay(confusion_matrix=cm)\n",
        "display.plot()\n",
        "plt.show()"
      ]
    },
    {
      "cell_type": "code",
      "execution_count": 6,
      "metadata": {},
      "outputs": [
        {
          "name": "stdout",
          "output_type": "stream",
          "text": [
            "[0.]\n"
          ]
        }
      ],
      "source": [
        "loaded_knn = pickle.load(open('knn_classifier.pkl', 'rb'))\n",
        "\n",
        "def preprocess_image(image_path, target_size=(32, 32)):\n",
        "    image = io.imread(image_path)\n",
        "    image = color.rgb2gray(image)  # Convert to grayscale\n",
        "    return cv2.resize(image, target_size).flatten()\n",
        "\n",
        "pic = np.array([preprocess_image(class_1_paths[0])])\n",
        "\n",
        "# Predict on the test set\n",
        "y_pred = knn.predict(pic)\n",
        "\n",
        "print(y_pred)"
      ]
    }
  ],
  "metadata": {
    "colab": {
      "authorship_tag": "ABX9TyO7a7g51iqVT10cORRu8VuY",
      "include_colab_link": true,
      "provenance": []
    },
    "kernelspec": {
      "display_name": "Python 3",
      "name": "python3"
    },
    "language_info": {
      "codemirror_mode": {
        "name": "ipython",
        "version": 3
      },
      "file_extension": ".py",
      "mimetype": "text/x-python",
      "name": "python",
      "nbconvert_exporter": "python",
      "pygments_lexer": "ipython3",
      "version": "3.11.5"
    }
  },
  "nbformat": 4,
  "nbformat_minor": 0
}
