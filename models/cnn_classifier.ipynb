{
  "cells": [
    {
      "cell_type": "markdown",
      "metadata": {
        "colab_type": "text",
        "id": "view-in-github"
      },
      "source": [
        "<a href=\"https://colab.research.google.com/github/chrisli36/Homework-Classification/blob/main/cnn_classifier.ipynb\" target=\"_parent\"><img src=\"https://colab.research.google.com/assets/colab-badge.svg\" alt=\"Open In Colab\"/></a>"
      ]
    },
    {
      "cell_type": "code",
      "execution_count": 4,
      "metadata": {},
      "outputs": [],
      "source": [
        "import numpy as np\n",
        "from sklearn.model_selection import train_test_split\n",
        "from sklearn.metrics import accuracy_score, confusion_matrix, ConfusionMatrixDisplay, classification_report\n",
        "import matplotlib.pyplot as plt\n",
        "from skimage import io, color\n",
        "import os\n",
        "import cv2\n",
        "import pickle\n",
        "\n",
        "import tensorflow as tf\n",
        "from tensorflow.keras import layers, models\n",
        "import keras\n",
        "\n",
        "dim = 128"
      ]
    },
    {
      "cell_type": "code",
      "execution_count": null,
      "metadata": {},
      "outputs": [],
      "source": [
        "# Function to load and preprocess images\n",
        "def preprocess_image(image_path, target_size=(dim, dim)):\n",
        "    image = io.imread(image_path)\n",
        "    image = color.rgb2gray(image)  # Convert to grayscale\n",
        "    return cv2.resize(image, target_size)\n",
        "\n",
        "# Load and preprocess images from two classes\n",
        "dataset_path = \"../data/merged/hw\"\n",
        "path = \"../data/merged/no_hw\"\n",
        "class_0_paths = [os.path.join(dataset_path, fn) for fn in os.listdir(dataset_path)]\n",
        "class_1_paths = [os.path.join(path, fn) for fn in os.listdir(path)]\n",
        "print(\"done finding paths\")\n",
        "\n",
        "class_0_data = np.array([preprocess_image(path) for path in class_0_paths])\n",
        "class_1_data = np.array([preprocess_image(path) for path in class_1_paths[:600]])\n",
        "print(\"done preprocessing\")\n",
        "\n",
        "# Create labels for the data\n",
        "class_0_labels = np.zeros(class_0_data.shape[0])  # Label for class 0\n",
        "class_1_labels = np.ones(class_1_data.shape[0])   # Label for class 1\n",
        "print(\"done creating labels\")\n",
        "\n",
        "# Combine data and labels for both classes\n",
        "X = np.concatenate((class_0_data, class_1_data), axis=0)\n",
        "y = np.concatenate((class_0_labels, class_1_labels), axis=0)\n",
        "print(\"done combining\")\n",
        "\n",
        "pickle.dump(X, open('processed_imgs/X_data_{}.pkl'.format(dim), 'wb'))\n",
        "pickle.dump(y, open('processed_imgs/y_data_{}.pkl'.format(dim), 'wb'))"
      ]
    },
    {
      "cell_type": "code",
      "execution_count": 6,
      "metadata": {},
      "outputs": [],
      "source": [
        "X = pickle.load(open('processed_imgs/X_data_{}.pkl'.format(dim), 'rb'))\n",
        "y = pickle.load(open('processed_imgs/y_data_{}.pkl'.format(dim), 'rb'))\n",
        "\n",
        "# Split the data into training and testing sets\n",
        "X_train, X_test, y_train, y_test = train_test_split(X, y, test_size=0.2, random_state=42)\n",
        "X_test, X_val, y_test, y_val = train_test_split(X_test, y_test, test_size=0.5, random_state=42)"
      ]
    },
    {
      "cell_type": "code",
      "execution_count": 20,
      "metadata": {
        "id": "FVui7sZQRZA6"
      },
      "outputs": [
        {
          "name": "stdout",
          "output_type": "stream",
          "text": [
            "Epoch 1/10\n"
          ]
        },
        {
          "name": "stderr",
          "output_type": "stream",
          "text": [
            "/Users/christopherli/anaconda3/lib/python3.11/site-packages/keras/src/layers/convolutional/base_conv.py:99: UserWarning: Do not pass an `input_shape`/`input_dim` argument to a layer. When using Sequential models, prefer using an `Input(shape)` object as the first layer in the model instead.\n",
            "  super().__init__(\n"
          ]
        },
        {
          "name": "stdout",
          "output_type": "stream",
          "text": [
            "\u001b[1m31/31\u001b[0m \u001b[32m━━━━━━━━━━━━━━━━━━━━\u001b[0m\u001b[37m\u001b[0m \u001b[1m6s\u001b[0m 162ms/step - accuracy: 0.5822 - loss: 0.7363 - val_accuracy: 0.7459 - val_loss: 0.5988\n",
            "Epoch 2/10\n",
            "\u001b[1m31/31\u001b[0m \u001b[32m━━━━━━━━━━━━━━━━━━━━\u001b[0m\u001b[37m\u001b[0m \u001b[1m5s\u001b[0m 166ms/step - accuracy: 0.7672 - loss: 0.5158 - val_accuracy: 0.7951 - val_loss: 0.4877\n",
            "Epoch 3/10\n",
            "\u001b[1m31/31\u001b[0m \u001b[32m━━━━━━━━━━━━━━━━━━━━\u001b[0m\u001b[37m\u001b[0m \u001b[1m5s\u001b[0m 154ms/step - accuracy: 0.8258 - loss: 0.4219 - val_accuracy: 0.8115 - val_loss: 0.4253\n",
            "Epoch 4/10\n",
            "\u001b[1m31/31\u001b[0m \u001b[32m━━━━━━━━━━━━━━━━━━━━\u001b[0m\u001b[37m\u001b[0m \u001b[1m5s\u001b[0m 156ms/step - accuracy: 0.8620 - loss: 0.3478 - val_accuracy: 0.8770 - val_loss: 0.2977\n",
            "Epoch 5/10\n",
            "\u001b[1m31/31\u001b[0m \u001b[32m━━━━━━━━━━━━━━━━━━━━\u001b[0m\u001b[37m\u001b[0m \u001b[1m5s\u001b[0m 154ms/step - accuracy: 0.8750 - loss: 0.2827 - val_accuracy: 0.9180 - val_loss: 0.1816\n",
            "Epoch 6/10\n",
            "\u001b[1m31/31\u001b[0m \u001b[32m━━━━━━━━━━━━━━━━━━━━\u001b[0m\u001b[37m\u001b[0m \u001b[1m5s\u001b[0m 154ms/step - accuracy: 0.9248 - loss: 0.1830 - val_accuracy: 0.9180 - val_loss: 0.1652\n",
            "Epoch 7/10\n",
            "\u001b[1m31/31\u001b[0m \u001b[32m━━━━━━━━━━━━━━━━━━━━\u001b[0m\u001b[37m\u001b[0m \u001b[1m5s\u001b[0m 155ms/step - accuracy: 0.9546 - loss: 0.1118 - val_accuracy: 0.9344 - val_loss: 0.1507\n",
            "Epoch 8/10\n",
            "\u001b[1m31/31\u001b[0m \u001b[32m━━━━━━━━━━━━━━━━━━━━\u001b[0m\u001b[37m\u001b[0m \u001b[1m5s\u001b[0m 154ms/step - accuracy: 0.9298 - loss: 0.1319 - val_accuracy: 0.9754 - val_loss: 0.0842\n",
            "Epoch 9/10\n",
            "\u001b[1m31/31\u001b[0m \u001b[32m━━━━━━━━━━━━━━━━━━━━\u001b[0m\u001b[37m\u001b[0m \u001b[1m5s\u001b[0m 159ms/step - accuracy: 0.9610 - loss: 0.1017 - val_accuracy: 0.9590 - val_loss: 0.0822\n",
            "Epoch 10/10\n",
            "\u001b[1m31/31\u001b[0m \u001b[32m━━━━━━━━━━━━━━━━━━━━\u001b[0m\u001b[37m\u001b[0m \u001b[1m5s\u001b[0m 154ms/step - accuracy: 0.9879 - loss: 0.0379 - val_accuracy: 0.9836 - val_loss: 0.0483\n",
            "\u001b[1m4/4\u001b[0m \u001b[32m━━━━━━━━━━━━━━━━━━━━\u001b[0m\u001b[37m\u001b[0m \u001b[1m0s\u001b[0m 51ms/step\n"
          ]
        },
        {
          "data": {
            "image/png": "[encoded data removed]",
            "text/plain": [
              "<Figure size 640x480 with 2 Axes>"
            ]
          },
          "metadata": {},
          "output_type": "display_data"
        }
      ],
      "source": [
        "# Define the CNN model\n",
        "model = models.Sequential([\n",
        "    layers.Conv2D(32, (3, 3), activation='relu', input_shape=(dim, dim, 1)),\n",
        "    layers.MaxPooling2D((2, 2)),\n",
        "    layers.Dropout(0.25),\n",
        "    \n",
        "    layers.Conv2D(64, (3, 3), activation='relu'),\n",
        "    layers.MaxPooling2D((2, 2)),\n",
        "    layers.Dropout(0.25),\n",
        "\n",
        "    layers.Conv2D(128, (3, 3), activation='relu'),\n",
        "    layers.MaxPooling2D((2, 2)),\n",
        "    layers.Dropout(0.25),\n",
        "\n",
        "    layers.Flatten(),\n",
        "    layers.Dense(64, activation='relu'),\n",
        "    layers.Dense(64, activation='relu'),\n",
        "    layers.Dense(1, activation='sigmoid')\n",
        "])\n",
        "\n",
        "# Compile the model\n",
        "model.compile(optimizer='adam',\n",
        "              loss='binary_crossentropy',\n",
        "              metrics=['accuracy'])\n",
        "\n",
        "# Train the model\n",
        "model.fit(X_train, y_train, epochs=10, batch_size=32, validation_data=(X_val, y_val))\n",
        "\n",
        "# evaluate on validation data\n",
        "predictions = (model.predict(X_val) > 0.5).astype(int)\n",
        "\n",
        "cm = confusion_matrix(y_val, predictions)\n",
        "display = ConfusionMatrixDisplay(confusion_matrix=cm)\n",
        "display.plot()\n",
        "plt.show()\n",
        "\n",
        "model.save('cnn_classifier_{}.keras'.format(dim))"
      ]
    },
    {
      "cell_type": "code",
      "execution_count": 21,
      "metadata": {},
      "outputs": [
        {
          "name": "stdout",
          "output_type": "stream",
          "text": [
            "\u001b[1m4/4\u001b[0m \u001b[32m━━━━━━━━━━━━━━━━━━━━\u001b[0m\u001b[37m\u001b[0m \u001b[1m0s\u001b[0m 43ms/step - accuracy: 0.9828 - loss: 0.0332\n",
            "Test accuracy: 0.9752066135406494\n",
            "Test loss:  0.04047290235757828\n",
            "\u001b[1m4/4\u001b[0m \u001b[32m━━━━━━━━━━━━━━━━━━━━\u001b[0m\u001b[37m\u001b[0m \u001b[1m0s\u001b[0m 63ms/step\n",
            "              precision    recall  f1-score   support\n",
            "\n",
            "         0.0       0.97      0.98      0.98        66\n",
            "         1.0       0.98      0.96      0.97        55\n",
            "\n",
            "    accuracy                           0.98       121\n",
            "   macro avg       0.98      0.97      0.97       121\n",
            "weighted avg       0.98      0.98      0.98       121\n",
            "\n",
            "Accuracy: 0.9752066115702479\n"
          ]
        },
        {
          "data": {
            "image/png": "[encoded data removed]",
            "text/plain": [
              "<Figure size 640x480 with 2 Axes>"
            ]
          },
          "metadata": {},
          "output_type": "display_data"
        }
      ],
      "source": [
        "model = keras.models.load_model('cnn_classifier_{}.keras'.format(dim))\n",
        "\n",
        "# Evaluate the model\n",
        "loss, acc = model.evaluate(X_test, y_test)\n",
        "print(\"Test accuracy:\", acc)\n",
        "print(\"Test loss: \", loss)\n",
        "\n",
        "# Make predictions\n",
        "predictions = model.predict(X_test)\n",
        "predicted_labels = (predictions > 0.5).astype(int)\n",
        "\n",
        "# Print classification report\n",
        "print(classification_report(y_test, predicted_labels))\n",
        "\n",
        "# Calculate accuracy\n",
        "accuracy = accuracy_score(y_test, predicted_labels)\n",
        "print(\"Accuracy:\", accuracy)\n",
        "\n",
        "# plot confusion matrix\n",
        "cm = confusion_matrix(y_test, predicted_labels)\n",
        "display = ConfusionMatrixDisplay(confusion_matrix=cm)\n",
        "display.plot()\n",
        "plt.show()"
      ]
    },
    {
      "cell_type": "code",
      "execution_count": 4,
      "metadata": {},
      "outputs": [
        {
          "name": "stdout",
          "output_type": "stream",
          "text": [
            "Model: \"sequential_1\"\n",
            "_________________________________________________________________\n",
            " Layer (type)                Output Shape              Param #   \n",
            "=================================================================\n",
            " conv2d_3 (Conv2D)           (None, 126, 126, 32)      320       \n",
            "                                                                 \n",
            " max_pooling2d_3 (MaxPooling  (None, 63, 63, 32)       0         \n",
            " 2D)                                                             \n",
            "                                                                 \n",
            " dropout_3 (Dropout)         (None, 63, 63, 32)        0         \n",
            "                                                                 \n",
            " conv2d_4 (Conv2D)           (None, 61, 61, 64)        18496     \n",
            "                                                                 \n",
            " max_pooling2d_4 (MaxPooling  (None, 30, 30, 64)       0         \n",
            " 2D)                                                             \n",
            "                                                                 \n",
            " dropout_4 (Dropout)         (None, 30, 30, 64)        0         \n",
            "                                                                 \n",
            " conv2d_5 (Conv2D)           (None, 28, 28, 128)       73856     \n",
            "                                                                 \n",
            " max_pooling2d_5 (MaxPooling  (None, 14, 14, 128)      0         \n",
            " 2D)                                                             \n",
            "                                                                 \n",
            " dropout_5 (Dropout)         (None, 14, 14, 128)       0         \n",
            "                                                                 \n",
            " flatten_1 (Flatten)         (None, 25088)             0         \n",
            "                                                                 \n",
            " dense_3 (Dense)             (None, 64)                1605696   \n",
            "                                                                 \n",
            " dense_4 (Dense)             (None, 64)                4160      \n",
            "                                                                 \n",
            " dense_5 (Dense)             (None, 1)                 65        \n",
            "                                                                 \n",
            "=================================================================\n",
            "Total params: 1,702,593\n",
            "Trainable params: 1,702,593\n",
            "Non-trainable params: 0\n",
            "_________________________________________________________________\n"
          ]
        }
      ],
      "source": [
        "model.summary()"
      ]
    }
  ],
  "metadata": {
    "colab": {
      "authorship_tag": "ABX9TyOH1KlnGPvpugfmfC4d3MlQ",
      "include_colab_link": true,
      "provenance": []
    },
    "kernelspec": {
      "display_name": "Python 3",
      "name": "python3"
    },
    "language_info": {
      "codemirror_mode": {
        "name": "ipython",
        "version": 3
      },
      "file_extension": ".py",
      "mimetype": "text/x-python",
      "name": "python",
      "nbconvert_exporter": "python",
      "pygments_lexer": "ipython3",
      "version": "3.11.5"
    }
  },
  "nbformat": 4,
  "nbformat_minor": 0
}
