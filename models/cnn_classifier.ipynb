{
  "cells": [
    {
      "cell_type": "markdown",
      "metadata": {
        "colab_type": "text",
        "id": "view-in-github"
      },
      "source": [
        "<a href=\"https://colab.research.google.com/github/chrisli36/Homework-Classification/blob/main/cnn_classifier.ipynb\" target=\"_parent\"><img src=\"https://colab.research.google.com/assets/colab-badge.svg\" alt=\"Open In Colab\"/></a>"
      ]
    },
    {
      "cell_type": "code",
      "execution_count": 17,
      "metadata": {},
      "outputs": [],
      "source": [
        "import numpy as np\n",
        "from sklearn.model_selection import train_test_split\n",
        "from sklearn.metrics import accuracy_score, confusion_matrix, ConfusionMatrixDisplay, classification_report\n",
        "import matplotlib.pyplot as plt\n",
        "from skimage import io, color\n",
        "import os\n",
        "import cv2\n",
        "import pickle\n",
        "\n",
        "import tensorflow as tf\n",
        "from tensorflow.keras import layers, models\n",
        "import keras\n",
        "\n",
        "dim = 128"
      ]
    },
    {
      "cell_type": "code",
      "execution_count": null,
      "metadata": {},
      "outputs": [],
      "source": [
        "# Function to load and preprocess images\n",
        "def preprocess_image(image_path, target_size=(dim, dim)):\n",
        "    image = io.imread(image_path)\n",
        "    image = color.rgb2gray(image)  # Convert to grayscale\n",
        "    return cv2.resize(image, target_size)\n",
        "\n",
        "# Load and preprocess images from two classes\n",
        "dataset_path = \"../data/merged/hw\"\n",
        "path = \"../data/merged/no_hw\"\n",
        "class_0_paths = [os.path.join(dataset_path, fn) for fn in os.listdir(dataset_path)]\n",
        "class_1_paths = [os.path.join(path, fn) for fn in os.listdir(path)]\n",
        "print(\"done finding paths\")\n",
        "\n",
        "class_0_data = np.array([preprocess_image(path) for path in class_0_paths])\n",
        "class_1_data = np.array([preprocess_image(path) for path in class_1_paths[:600]])\n",
        "print(\"done preprocessing\")\n",
        "\n",
        "# Create labels for the data\n",
        "class_0_labels = np.zeros(class_0_data.shape[0])  # Label for class 0\n",
        "class_1_labels = np.ones(class_1_data.shape[0])   # Label for class 1\n",
        "print(\"done creating labels\")\n",
        "\n",
        "# Combine data and labels for both classes\n",
        "X = np.concatenate((class_0_data, class_1_data), axis=0)\n",
        "y = np.concatenate((class_0_labels, class_1_labels), axis=0)\n",
        "print(\"done combining\")\n",
        "\n",
        "pickle.dump(X, open('processed_imgs/X_data_{}.pkl'.format(dim), 'wb'))\n",
        "pickle.dump(y, open('processed_imgs/y_data_{}.pkl'.format(dim), 'wb'))"
      ]
    },
    {
      "cell_type": "code",
      "execution_count": 15,
      "metadata": {
        "id": "FVui7sZQRZA6"
      },
      "outputs": [
        {
          "name": "stdout",
          "output_type": "stream",
          "text": [
            "Epoch 1/10\n",
            "31/31 [==============================] - 5s 141ms/step - loss: 0.6389 - accuracy: 0.6029 - val_loss: 0.6823 - val_accuracy: 0.5082\n",
            "Epoch 2/10\n",
            "31/31 [==============================] - 4s 130ms/step - loss: 0.4596 - accuracy: 0.7840 - val_loss: 0.3785 - val_accuracy: 0.8361\n",
            "Epoch 3/10\n",
            "31/31 [==============================] - 4s 131ms/step - loss: 0.3621 - accuracy: 0.8447 - val_loss: 0.3118 - val_accuracy: 0.8689\n",
            "Epoch 4/10\n",
            "31/31 [==============================] - 5s 146ms/step - loss: 0.2735 - accuracy: 0.8714 - val_loss: 0.4642 - val_accuracy: 0.7951\n",
            "Epoch 5/10\n",
            "31/31 [==============================] - 4s 141ms/step - loss: 0.2356 - accuracy: 0.9023 - val_loss: 0.2500 - val_accuracy: 0.9344\n",
            "Epoch 6/10\n",
            "31/31 [==============================] - 4s 145ms/step - loss: 0.1675 - accuracy: 0.9249 - val_loss: 0.1953 - val_accuracy: 0.9344\n",
            "Epoch 7/10\n",
            "31/31 [==============================] - 4s 139ms/step - loss: 0.1626 - accuracy: 0.9383 - val_loss: 0.2788 - val_accuracy: 0.8689\n",
            "Epoch 8/10\n",
            "31/31 [==============================] - 5s 146ms/step - loss: 0.1366 - accuracy: 0.9516 - val_loss: 0.1566 - val_accuracy: 0.9508\n",
            "Epoch 9/10\n",
            "31/31 [==============================] - 4s 141ms/step - loss: 0.0873 - accuracy: 0.9702 - val_loss: 0.1062 - val_accuracy: 0.9754\n",
            "Epoch 10/10\n",
            "31/31 [==============================] - 4s 137ms/step - loss: 0.0765 - accuracy: 0.9733 - val_loss: 0.1076 - val_accuracy: 0.9590\n",
            "4/4 [==============================] - 0s 32ms/step\n"
          ]
        },
        {
          "data": {
            "image/png": "[encoded data removed]",
            "text/plain": [
              "<Figure size 640x480 with 2 Axes>"
            ]
          },
          "metadata": {},
          "output_type": "display_data"
        },
        {
          "name": "stderr",
          "output_type": "stream",
          "text": [
            "2024-03-23 22:01:45.453977: I tensorflow/core/common_runtime/executor.cc:1197] [/device:CPU:0] (DEBUG INFO) Executor start aborting (this does not indicate an error and you can ignore this message): INVALID_ARGUMENT: You must feed a value for placeholder tensor 'inputs' with dtype float and shape [?,63,63,32]\n",
            "\t [[{{node inputs}}]]\n",
            "2024-03-23 22:01:45.459610: I tensorflow/core/common_runtime/executor.cc:1197] [/device:CPU:0] (DEBUG INFO) Executor start aborting (this does not indicate an error and you can ignore this message): INVALID_ARGUMENT: You must feed a value for placeholder tensor 'inputs' with dtype float and shape [?,30,30,64]\n",
            "\t [[{{node inputs}}]]\n",
            "2024-03-23 22:01:45.465276: I tensorflow/core/common_runtime/executor.cc:1197] [/device:CPU:0] (DEBUG INFO) Executor start aborting (this does not indicate an error and you can ignore this message): INVALID_ARGUMENT: You must feed a value for placeholder tensor 'inputs' with dtype float and shape [?,14,14,128]\n",
            "\t [[{{node inputs}}]]\n",
            "2024-03-23 22:01:45.568896: I tensorflow/core/common_runtime/executor.cc:1197] [/device:CPU:0] (DEBUG INFO) Executor start aborting (this does not indicate an error and you can ignore this message): INVALID_ARGUMENT: You must feed a value for placeholder tensor 'inputs' with dtype float and shape [?,63,63,32]\n",
            "\t [[{{node inputs}}]]\n",
            "2024-03-23 22:01:45.582952: I tensorflow/core/common_runtime/executor.cc:1197] [/device:CPU:0] (DEBUG INFO) Executor start aborting (this does not indicate an error and you can ignore this message): INVALID_ARGUMENT: You must feed a value for placeholder tensor 'inputs' with dtype float and shape [?,30,30,64]\n",
            "\t [[{{node inputs}}]]\n",
            "2024-03-23 22:01:45.596684: I tensorflow/core/common_runtime/executor.cc:1197] [/device:CPU:0] (DEBUG INFO) Executor start aborting (this does not indicate an error and you can ignore this message): INVALID_ARGUMENT: You must feed a value for placeholder tensor 'inputs' with dtype float and shape [?,14,14,128]\n",
            "\t [[{{node inputs}}]]\n",
            "WARNING:absl:Found untraced functions such as _jit_compiled_convolution_op, _jit_compiled_convolution_op, _jit_compiled_convolution_op while saving (showing 3 of 3). These functions will not be directly callable after loading.\n"
          ]
        },
        {
          "name": "stdout",
          "output_type": "stream",
          "text": [
            "INFO:tensorflow:Assets written to: cnn_classifier_128.kears/assets\n"
          ]
        },
        {
          "name": "stderr",
          "output_type": "stream",
          "text": [
            "INFO:tensorflow:Assets written to: cnn_classifier_128.kears/assets\n"
          ]
        }
      ],
      "source": [
        "X = pickle.load(open('processed_imgs/X_data_{}.pkl'.format(dim), 'rb'))\n",
        "y = pickle.load(open('processed_imgs/y_data_{}.pkl'.format(dim), 'rb'))\n",
        "\n",
        "# Split the data into training and testing sets\n",
        "X_train, X_test, y_train, y_test = train_test_split(X, y, test_size=0.2, random_state=42)\n",
        "X_test, X_val, y_test, y_val = train_test_split(X_test, y_test, test_size=0.5, random_state=42)\n",
        "\n",
        "# Define the CNN model\n",
        "model = models.Sequential([\n",
        "    layers.Conv2D(32, (3, 3), activation='relu', input_shape=(dim, dim, 1)),\n",
        "    layers.MaxPooling2D((2, 2)),\n",
        "    layers.Dropout(0.25),\n",
        "    \n",
        "    layers.Conv2D(64, (3, 3), activation='relu'),\n",
        "    layers.MaxPooling2D((2, 2)),\n",
        "    layers.Dropout(0.25),\n",
        "\n",
        "    layers.Conv2D(128, (3, 3), activation='relu'),\n",
        "    layers.MaxPooling2D((2, 2)),\n",
        "    layers.Dropout(0.25),\n",
        "\n",
        "    layers.Flatten(),\n",
        "    layers.Dense(64, activation='relu'),\n",
        "    layers.Dense(64, activation='relu'),\n",
        "    layers.Dense(1, activation='sigmoid')\n",
        "])\n",
        "\n",
        "# Compile the model\n",
        "model.compile(optimizer='adam',\n",
        "              loss='binary_crossentropy',\n",
        "              metrics=['accuracy'])\n",
        "\n",
        "# Train the model\n",
        "model.fit(X_train, y_train, epochs=10, batch_size=32, validation_data=(X_val, y_val))\n",
        "\n",
        "# evaluate on validation data\n",
        "predictions = (model.predict(X_val) > 0.5).astype(int)\n",
        "\n",
        "cm = confusion_matrix(y_val, predictions)\n",
        "display = ConfusionMatrixDisplay(confusion_matrix=cm)\n",
        "display.plot()\n",
        "plt.show()\n",
        "\n",
        "model.save('cnn_classifier_{}.keras'.format(dim))"
      ]
    },
    {
      "cell_type": "code",
      "execution_count": 19,
      "metadata": {},
      "outputs": [
        {
          "name": "stdout",
          "output_type": "stream",
          "text": [
            "4/4 [==============================] - 0s 43ms/step - loss: 0.0618 - accuracy: 0.9835\n",
            "Test accuracy: 0.9834710955619812\n",
            "Test loss:  0.06180480122566223\n",
            "4/4 [==============================] - 0s 41ms/step\n",
            "              precision    recall  f1-score   support\n",
            "\n",
            "         0.0       0.98      0.98      0.98        66\n",
            "         1.0       0.98      0.98      0.98        55\n",
            "\n",
            "    accuracy                           0.98       121\n",
            "   macro avg       0.98      0.98      0.98       121\n",
            "weighted avg       0.98      0.98      0.98       121\n",
            "\n",
            "Accuracy: 0.9834710743801653\n"
          ]
        },
        {
          "data": {
            "image/png": "[encoded data removed]",
            "text/plain": [
              "<Figure size 640x480 with 2 Axes>"
            ]
          },
          "metadata": {},
          "output_type": "display_data"
        }
      ],
      "source": [
        "model = keras.models.load_model('cnn_classifier_{}.keras'.format(dim))\n",
        "\n",
        "# Evaluate the model\n",
        "loss, acc = model.evaluate(X_test, y_test)\n",
        "print(\"Test accuracy:\", acc)\n",
        "print(\"Test loss: \", loss)\n",
        "\n",
        "# Make predictions\n",
        "predictions = model.predict(X_test)\n",
        "predicted_labels = (predictions > 0.5).astype(int)\n",
        "\n",
        "# Print classification report\n",
        "print(classification_report(y_test, predicted_labels))\n",
        "\n",
        "# Calculate accuracy\n",
        "accuracy = accuracy_score(y_test, predicted_labels)\n",
        "print(\"Accuracy:\", accuracy)\n",
        "\n",
        "# plot confusion matrix\n",
        "cm = confusion_matrix(y_test, predicted_labels)\n",
        "display = ConfusionMatrixDisplay(confusion_matrix=cm)\n",
        "display.plot()\n",
        "plt.show()"
      ]
    }
  ],
  "metadata": {
    "colab": {
      "authorship_tag": "ABX9TyOH1KlnGPvpugfmfC4d3MlQ",
      "include_colab_link": true,
      "provenance": []
    },
    "kernelspec": {
      "display_name": "Python 3",
      "name": "python3"
    },
    "language_info": {
      "codemirror_mode": {
        "name": "ipython",
        "version": 3
      },
      "file_extension": ".py",
      "mimetype": "text/x-python",
      "name": "python",
      "nbconvert_exporter": "python",
      "pygments_lexer": "ipython3",
      "version": "3.11.5"
    }
  },
  "nbformat": 4,
  "nbformat_minor": 0
}
