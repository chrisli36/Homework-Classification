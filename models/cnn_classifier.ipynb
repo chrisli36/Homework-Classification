{
  "cells": [
    {
      "cell_type": "markdown",
      "metadata": {
        "colab_type": "text",
        "id": "view-in-github"
      },
      "source": [
        "<a href=\"https://colab.research.google.com/github/chrisli36/Homework-Classification/blob/main/cnn_classifier.ipynb\" target=\"_parent\"><img src=\"https://colab.research.google.com/assets/colab-badge.svg\" alt=\"Open In Colab\"/></a>"
      ]
    },
    {
      "cell_type": "code",
      "execution_count": 2,
      "metadata": {},
      "outputs": [],
      "source": [
        "import numpy as np\n",
        "from sklearn.model_selection import train_test_split\n",
        "from sklearn.metrics import accuracy_score, confusion_matrix, ConfusionMatrixDisplay, classification_report\n",
        "import matplotlib.pyplot as plt\n",
        "from skimage import io, color\n",
        "import os\n",
        "import cv2\n",
        "import pickle\n",
        "\n",
        "import tensorflow as tf\n",
        "from tensorflow.keras import layers, models"
      ]
    },
    {
      "cell_type": "code",
      "execution_count": 3,
      "metadata": {},
      "outputs": [
        {
          "name": "stdout",
          "output_type": "stream",
          "text": [
            "done finding paths\n",
            "done preprocessing\n",
            "done creating labels\n",
            "done combining\n"
          ]
        }
      ],
      "source": [
        "# Function to load and preprocess images\n",
        "def preprocess_image(image_path, target_size=(32, 32)):\n",
        "    image = io.imread(image_path)\n",
        "    image = color.rgb2gray(image)  # Convert to grayscale\n",
        "    return cv2.resize(image, target_size)\n",
        "\n",
        "# Load and preprocess images from two classes\n",
        "dataset_path = \"../data/hw/merged\"\n",
        "path = \"../data/no_hw/merged\"\n",
        "class_0_paths = [os.path.join(dataset_path, fn) for fn in os.listdir(dataset_path)]\n",
        "class_1_paths = [os.path.join(path, fn) for fn in os.listdir(path)]\n",
        "print(\"done finding paths\")\n",
        "\n",
        "class_0_data = np.array([preprocess_image(path) for path in class_0_paths])\n",
        "class_1_data = np.array([preprocess_image(path) for path in class_1_paths[:600]])\n",
        "print(\"done preprocessing\")\n",
        "\n",
        "# Create labels for the data\n",
        "class_0_labels = np.zeros(class_0_data.shape[0])  # Label for class 0\n",
        "class_1_labels = np.ones(class_1_data.shape[0])   # Label for class 1\n",
        "print(\"done creating labels\")\n",
        "\n",
        "# Combine data and labels for both classes\n",
        "X = np.concatenate((class_0_data, class_1_data), axis=0)\n",
        "y = np.concatenate((class_0_labels, class_1_labels), axis=0)\n",
        "print(\"done combining\")"
      ]
    },
    {
      "cell_type": "code",
      "execution_count": 4,
      "metadata": {
        "id": "FVui7sZQRZA6"
      },
      "outputs": [
        {
          "name": "stdout",
          "output_type": "stream",
          "text": [
            "Epoch 1/10\n"
          ]
        },
        {
          "name": "stderr",
          "output_type": "stream",
          "text": [
            "2024-03-23 18:36:15.731914: W tensorflow/tsl/platform/profile_utils/cpu_utils.cc:128] Failed to get CPU frequency: 0 Hz\n"
          ]
        },
        {
          "name": "stdout",
          "output_type": "stream",
          "text": [
            "31/31 [==============================] - 1s 16ms/step - loss: 0.5681 - accuracy: 0.6780 - val_loss: 0.4324 - val_accuracy: 0.8272\n",
            "Epoch 2/10\n",
            "31/31 [==============================] - 0s 13ms/step - loss: 0.4395 - accuracy: 0.8179 - val_loss: 0.3998 - val_accuracy: 0.8395\n",
            "Epoch 3/10\n",
            "31/31 [==============================] - 0s 13ms/step - loss: 0.3694 - accuracy: 0.8601 - val_loss: 0.3696 - val_accuracy: 0.8354\n",
            "Epoch 4/10\n",
            "31/31 [==============================] - 0s 13ms/step - loss: 0.3516 - accuracy: 0.8611 - val_loss: 0.3516 - val_accuracy: 0.8519\n",
            "Epoch 5/10\n",
            "31/31 [==============================] - 0s 12ms/step - loss: 0.3073 - accuracy: 0.8858 - val_loss: 0.3202 - val_accuracy: 0.8519\n",
            "Epoch 6/10\n",
            "31/31 [==============================] - 0s 12ms/step - loss: 0.2781 - accuracy: 0.8992 - val_loss: 0.3159 - val_accuracy: 0.8560\n",
            "Epoch 7/10\n",
            "31/31 [==============================] - 0s 12ms/step - loss: 0.2365 - accuracy: 0.9105 - val_loss: 0.2859 - val_accuracy: 0.8848\n",
            "Epoch 8/10\n",
            "31/31 [==============================] - 0s 14ms/step - loss: 0.2194 - accuracy: 0.9198 - val_loss: 0.2516 - val_accuracy: 0.9012\n",
            "Epoch 9/10\n",
            "31/31 [==============================] - 0s 14ms/step - loss: 0.1885 - accuracy: 0.9342 - val_loss: 0.2072 - val_accuracy: 0.9259\n",
            "Epoch 10/10\n",
            "31/31 [==============================] - 0s 12ms/step - loss: 0.1737 - accuracy: 0.9372 - val_loss: 0.3198 - val_accuracy: 0.8930\n",
            "8/8 [==============================] - 0s 4ms/step - loss: 0.3198 - accuracy: 0.8930\n",
            "Test Accuracy: 0.8930041193962097\n",
            "8/8 [==============================] - 0s 4ms/step\n",
            "              precision    recall  f1-score   support\n",
            "\n",
            "         0.0       0.97      0.82      0.89       128\n",
            "         1.0       0.83      0.97      0.90       115\n",
            "\n",
            "    accuracy                           0.89       243\n",
            "   macro avg       0.90      0.90      0.89       243\n",
            "weighted avg       0.90      0.89      0.89       243\n",
            "\n"
          ]
        }
      ],
      "source": [
        "# Split the data into training and testing sets\n",
        "X_train, X_test, y_train, y_test = train_test_split(X, y, test_size=0.2, random_state=42)\n",
        "\n",
        "# # Normalize pixel values to be between 0 and 1\n",
        "# X_train = X_train.astype('float32') / 255.0\n",
        "# X_test = X_test.astype('float32') / 255.0\n",
        "\n",
        "# # Reshape the data to match the input shape of the CNN\n",
        "# X_train = np.expand_dims(X_train, axis=-1)\n",
        "# X_test = np.expand_dims(X_test, axis=-1)\n",
        "\n",
        "# Define the CNN model\n",
        "model = models.Sequential([\n",
        "    layers.Conv2D(32, (3, 3), activation='relu', input_shape=(32, 32, 1)),\n",
        "    layers.MaxPooling2D((2, 2)),\n",
        "    layers.Conv2D(64, (3, 3), activation='relu'),\n",
        "    layers.MaxPooling2D((2, 2)),\n",
        "    layers.Conv2D(64, (3, 3), activation='relu'),\n",
        "    layers.Flatten(),\n",
        "    layers.Dense(64, activation='relu'),\n",
        "    layers.Dense(1, activation='sigmoid')\n",
        "])\n",
        "\n",
        "# Compile the model\n",
        "model.compile(optimizer='adam',\n",
        "              loss='binary_crossentropy',\n",
        "              metrics=['accuracy'])\n",
        "\n",
        "# Train the model\n",
        "model.fit(X_train, y_train, epochs=10, batch_size=32, validation_data=(X_test, y_test))\n",
        "\n",
        "# Evaluate the model\n",
        "test_loss, test_accuracy = model.evaluate(X_test, y_test)\n",
        "print(\"Test Accuracy:\", test_accuracy)\n",
        "\n",
        "# Make predictions\n",
        "predictions = model.predict(X_test)\n",
        "predicted_labels = (predictions > 0.5).astype(int)\n",
        "\n",
        "print(\"hi\")\n",
        "# Print classification report\n",
        "print(classification_report(y_test, predicted_labels))\n"
      ]
    }
  ],
  "metadata": {
    "colab": {
      "authorship_tag": "ABX9TyOH1KlnGPvpugfmfC4d3MlQ",
      "include_colab_link": true,
      "provenance": []
    },
    "kernelspec": {
      "display_name": "Python 3",
      "name": "python3"
    },
    "language_info": {
      "codemirror_mode": {
        "name": "ipython",
        "version": 3
      },
      "file_extension": ".py",
      "mimetype": "text/x-python",
      "name": "python",
      "nbconvert_exporter": "python",
      "pygments_lexer": "ipython3",
      "version": "3.11.5"
    }
  },
  "nbformat": 4,
  "nbformat_minor": 0
}
