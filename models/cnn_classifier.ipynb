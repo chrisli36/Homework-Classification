{
  "cells": [
    {
      "cell_type": "markdown",
      "metadata": {
        "colab_type": "text",
        "id": "view-in-github"
      },
      "source": [
        "<a href=\"https://colab.research.google.com/github/chrisli36/Homework-Classification/blob/main/cnn_classifier.ipynb\" target=\"_parent\"><img src=\"https://colab.research.google.com/assets/colab-badge.svg\" alt=\"Open In Colab\"/></a>"
      ]
    },
    {
      "cell_type": "code",
      "execution_count": 46,
      "metadata": {},
      "outputs": [],
      "source": [
        "import numpy as np\n",
        "from sklearn.model_selection import train_test_split\n",
        "from sklearn.metrics import accuracy_score, confusion_matrix, ConfusionMatrixDisplay, classification_report\n",
        "import matplotlib.pyplot as plt\n",
        "from skimage import io, color\n",
        "import os\n",
        "import cv2\n",
        "import pickle\n",
        "\n",
        "import tensorflow as tf\n",
        "from tensorflow.keras import layers, models\n",
        "\n",
        "dim = 128"
      ]
    },
    {
      "cell_type": "code",
      "execution_count": null,
      "metadata": {},
      "outputs": [],
      "source": [
        "# Function to load and preprocess images\n",
        "def preprocess_image(image_path, target_size=(dim, dim)):\n",
        "    image = io.imread(image_path)\n",
        "    image = color.rgb2gray(image)  # Convert to grayscale\n",
        "    return cv2.resize(image, target_size)\n",
        "\n",
        "# Load and preprocess images from two classes\n",
        "dataset_path = \"../data/merged/hw\"\n",
        "path = \"../data/merged/no_hw\"\n",
        "class_0_paths = [os.path.join(dataset_path, fn) for fn in os.listdir(dataset_path)]\n",
        "class_1_paths = [os.path.join(path, fn) for fn in os.listdir(path)]\n",
        "print(\"done finding paths\")\n",
        "\n",
        "class_0_data = np.array([preprocess_image(path) for path in class_0_paths])\n",
        "class_1_data = np.array([preprocess_image(path) for path in class_1_paths[:600]])\n",
        "print(\"done preprocessing\")\n",
        "\n",
        "# Create labels for the data\n",
        "class_0_labels = np.zeros(class_0_data.shape[0])  # Label for class 0\n",
        "class_1_labels = np.ones(class_1_data.shape[0])   # Label for class 1\n",
        "print(\"done creating labels\")\n",
        "\n",
        "# Combine data and labels for both classes\n",
        "X = np.concatenate((class_0_data, class_1_data), axis=0)\n",
        "y = np.concatenate((class_0_labels, class_1_labels), axis=0)\n",
        "print(\"done combining\")\n",
        "\n",
        "pickle.dump(X, open('X_data_{}.pkl'.format(dim), 'wb'))\n",
        "pickle.dump(y, open('y_data_{}.pkl'.format(dim), 'wb'))"
      ]
    },
    {
      "cell_type": "code",
      "execution_count": 49,
      "metadata": {
        "id": "FVui7sZQRZA6"
      },
      "outputs": [
        {
          "name": "stdout",
          "output_type": "stream",
          "text": [
            "Epoch 1/10\n",
            "31/31 [==============================] - 5s 146ms/step - loss: 0.6988 - accuracy: 0.5267 - val_loss: 0.6534 - val_accuracy: 0.7295\n",
            "Epoch 2/10\n",
            "31/31 [==============================] - 4s 139ms/step - loss: 0.5068 - accuracy: 0.7685 - val_loss: 0.5020 - val_accuracy: 0.7787\n",
            "Epoch 3/10\n",
            "31/31 [==============================] - 4s 142ms/step - loss: 0.4181 - accuracy: 0.8292 - val_loss: 0.4623 - val_accuracy: 0.8443\n",
            "Epoch 4/10\n",
            "31/31 [==============================] - 4s 142ms/step - loss: 0.3300 - accuracy: 0.8652 - val_loss: 0.3210 - val_accuracy: 0.8689\n",
            "Epoch 5/10\n",
            "31/31 [==============================] - 4s 138ms/step - loss: 0.3251 - accuracy: 0.8796 - val_loss: 0.2638 - val_accuracy: 0.9016\n",
            "Epoch 6/10\n",
            "31/31 [==============================] - 4s 137ms/step - loss: 0.2325 - accuracy: 0.9053 - val_loss: 0.2862 - val_accuracy: 0.9180\n",
            "Epoch 7/10\n",
            "31/31 [==============================] - 4s 138ms/step - loss: 0.1968 - accuracy: 0.9280 - val_loss: 0.2116 - val_accuracy: 0.9426\n",
            "Epoch 8/10\n",
            "31/31 [==============================] - 4s 139ms/step - loss: 0.1354 - accuracy: 0.9558 - val_loss: 0.1540 - val_accuracy: 0.9426\n",
            "Epoch 9/10\n",
            "31/31 [==============================] - 5s 146ms/step - loss: 0.1216 - accuracy: 0.9558 - val_loss: 0.2404 - val_accuracy: 0.9016\n",
            "Epoch 10/10\n",
            "31/31 [==============================] - 4s 137ms/step - loss: 0.1322 - accuracy: 0.9516 - val_loss: 0.1302 - val_accuracy: 0.9590\n",
            "4/4 [==============================] - 0s 33ms/step\n"
          ]
        },
        {
          "data": {
            "image/png": "[encoded data removed]",
            "text/plain": [
              "<Figure size 640x480 with 2 Axes>"
            ]
          },
          "metadata": {},
          "output_type": "display_data"
        }
      ],
      "source": [
        "X = pickle.load(open('X_data_{}.pkl'.format(dim), 'rb'))\n",
        "y = pickle.load(open('y_data_{}.pkl'.format(dim), 'rb'))\n",
        "\n",
        "# Split the data into training and testing sets\n",
        "X_train, X_test, y_train, y_test = train_test_split(X, y, test_size=0.2, random_state=42)\n",
        "X_test, X_val, y_test, y_val = train_test_split(X_test, y_test, test_size=0.5, random_state=42)\n",
        "\n",
        "# Define the CNN model\n",
        "model = models.Sequential([\n",
        "    layers.Conv2D(32, (3, 3), activation='relu', input_shape=(dim, dim, 1)),\n",
        "    layers.MaxPooling2D((2, 2)),\n",
        "    layers.Dropout(0.25),\n",
        "    \n",
        "    layers.Conv2D(64, (3, 3), activation='relu'),\n",
        "    layers.MaxPooling2D((2, 2)),\n",
        "    layers.Dropout(0.25),\n",
        "\n",
        "    layers.Conv2D(128, (3, 3), activation='relu'),\n",
        "    layers.MaxPooling2D((2, 2)),\n",
        "    layers.Dropout(0.25),\n",
        "\n",
        "    layers.Flatten(),\n",
        "    layers.Dense(64, activation='relu'),\n",
        "    layers.Dense(64, activation='relu'),\n",
        "    layers.Dense(1, activation='sigmoid')\n",
        "])\n",
        "\n",
        "# Compile the model\n",
        "model.compile(optimizer='adam',\n",
        "              loss='binary_crossentropy',\n",
        "              metrics=['accuracy'])\n",
        "\n",
        "# Train the model\n",
        "model.fit(X_train, y_train, epochs=10, batch_size=32, validation_data=(X_val, y_val))\n",
        "\n",
        "# evaluate on validation data\n",
        "predictions = (model.predict(X_val) > 0.5).astype(int)\n",
        "\n",
        "cm = confusion_matrix(y_val, predictions)\n",
        "display = ConfusionMatrixDisplay(confusion_matrix=cm)\n",
        "display.plot()\n",
        "plt.show()\n",
        "\n",
        "pickle.dump(model, open('cnn_classifier_{}.pkl'.format(dim), 'wb'))"
      ]
    },
    {
      "cell_type": "code",
      "execution_count": 50,
      "metadata": {},
      "outputs": [
        {
          "name": "stdout",
          "output_type": "stream",
          "text": [
            "4/4 [==============================] - 0s 35ms/step - loss: 0.1047 - accuracy: 0.9504\n",
            "Test accuracy: 0.9504132270812988\n",
            "Test loss:  0.1046503409743309\n",
            "4/4 [==============================] - 0s 33ms/step\n",
            "              precision    recall  f1-score   support\n",
            "\n",
            "         0.0       0.94      0.97      0.96        66\n",
            "         1.0       0.96      0.93      0.94        55\n",
            "\n",
            "    accuracy                           0.95       121\n",
            "   macro avg       0.95      0.95      0.95       121\n",
            "weighted avg       0.95      0.95      0.95       121\n",
            "\n",
            "Accuracy: 0.9504132231404959\n"
          ]
        },
        {
          "data": {
            "image/png": "[encoded data removed]",
            "text/plain": [
              "<Figure size 640x480 with 2 Axes>"
            ]
          },
          "metadata": {},
          "output_type": "display_data"
        }
      ],
      "source": [
        "# Evaluate the model\n",
        "loss, acc = model.evaluate(X_test, y_test)\n",
        "print(\"Test accuracy:\", acc)\n",
        "print(\"Test loss: \", loss)\n",
        "\n",
        "# Make predictions\n",
        "predictions = model.predict(X_test)\n",
        "predicted_labels = (predictions > 0.5).astype(int)\n",
        "\n",
        "# Print classification report\n",
        "print(classification_report(y_test, predicted_labels))\n",
        "\n",
        "# Calculate accuracy\n",
        "accuracy = accuracy_score(y_test, predicted_labels)\n",
        "print(\"Accuracy:\", accuracy)\n",
        "\n",
        "# plot confusion matrix\n",
        "cm = confusion_matrix(y_test, predicted_labels)\n",
        "display = ConfusionMatrixDisplay(confusion_matrix=cm)\n",
        "display.plot()\n",
        "plt.show()"
      ]
    }
  ],
  "metadata": {
    "colab": {
      "authorship_tag": "ABX9TyOH1KlnGPvpugfmfC4d3MlQ",
      "include_colab_link": true,
      "provenance": []
    },
    "kernelspec": {
      "display_name": "Python 3",
      "name": "python3"
    },
    "language_info": {
      "codemirror_mode": {
        "name": "ipython",
        "version": 3
      },
      "file_extension": ".py",
      "mimetype": "text/x-python",
      "name": "python",
      "nbconvert_exporter": "python",
      "pygments_lexer": "ipython3",
      "version": "3.11.5"
    }
  },
  "nbformat": 4,
  "nbformat_minor": 0
}
